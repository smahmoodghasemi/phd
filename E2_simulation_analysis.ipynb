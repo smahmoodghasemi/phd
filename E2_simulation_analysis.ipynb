{
 "cells": [
  {
   "cell_type": "code",
   "execution_count": 1,
   "id": "658734da",
   "metadata": {},
   "outputs": [],
   "source": [
    "import numpy as np\n",
    "import pandas as pd\n",
    "import time\n",
    "from time import time\n",
    "import pickle\n",
    "import warnings\n",
    "warnings.filterwarnings(\"ignore\")\n",
    "from matplotlib import pyplot as plt\n",
    "from multiprocessing import Pool\n",
    "from joblib import Parallel, delayed"
   ]
  },
  {
   "cell_type": "code",
   "execution_count": 2,
   "id": "ffe5d4f5",
   "metadata": {},
   "outputs": [],
   "source": [
    "# Load data from a CSV file\n",
    "nf = pd.read_csv(r'C:\\Users\\smahm\\NFSIM\\C35\\MTD40B50.csv')\n",
    "\n",
    "# Rename the columns for clarity\n",
    "nf.columns = np.append(np.array([-1]), np.arange(0, 135, 15))\n",
    "nf = nf.reset_index(drop=True)  # Reset the index and drop the old index"
   ]
  },
  {
   "cell_type": "code",
   "execution_count": 3,
   "id": "51caa8e6",
   "metadata": {},
   "outputs": [],
   "source": [
    "# Activation probabilities for different experiments (Non-Flavopiridol)\n",
    "M2 = [0.13, 0.22, 0.32, 0.41, 0.46, 0.51]  # March Experiment\n",
    "S2 = [0.32, 0.40, 0.48, 0.54, 0.59, 0.64]  # September Experiment\n",
    "N2 = [0.26, 0.30, 0.36, 0.39, 0.39, 0.41]  # November Experiment"
   ]
  },
  {
   "cell_type": "code",
   "execution_count": 4,
   "id": "b9fb90aa",
   "metadata": {},
   "outputs": [],
   "source": [
    "# Function to extract LIF value from parameters\n",
    "def lif(parameters):\n",
    "    return float(parameters.split(\"LIF\")[1].split(\"A\")[0])\n",
    "\n",
    "# Function to extract A value from parameters\n",
    "def ave(parameters):\n",
    "    return float(parameters.split(\"A\")[1].split(\"C\")[0])\n",
    "\n",
    "# Function to extract C value from parameters\n",
    "def com(parameters):\n",
    "    return float(parameters.split(\"C\")[1].split(\"B\")[0])\n",
    "\n",
    "# Function to extract B value from parameters\n",
    "def bef(parameters):\n",
    "    return float(parameters.split(\"B\")[1].split(\"MTD\")[0])\n",
    "\n",
    "# Function to extract MTD value from parameters\n",
    "def mtd(parameters):\n",
    "    return float(parameters.split(\"B\")[1])  # This seems to get the MTD value directly\n",
    "\n",
    "# Function to calculate the maximum deviation for March experiment\n",
    "def mar(f, e, d, c, b, a):\n",
    "    return np.round(np.max([np.abs(M2[5]-f), np.abs(M2[4]-e),\n",
    "                             np.abs(M2[3]-d), np.abs(M2[2]-c),\n",
    "                             np.abs(M2[1]-b), np.abs(M2[0]-a)]), 2)\n",
    "\n",
    "# Function to calculate the maximum deviation for September experiment\n",
    "def sep(f, e, d, c, b, a):\n",
    "    return np.round(np.max([np.abs(S2[5]-f), np.abs(S2[4]-e),\n",
    "                             np.abs(S2[3]-d), np.abs(S2[2]-c),\n",
    "                             np.abs(S2[1]-b), np.abs(S2[0]-a)]), 2)\n",
    "\n",
    "# Function to calculate the maximum deviation for November experiment\n",
    "def nov(f, e, d, c, b, a):\n",
    "    return np.round(np.max([np.abs(N2[5]-f), np.abs(N2[4]-e),\n",
    "                             np.abs(N2[3]-d), np.abs(N2[2]-c),\n",
    "                             np.abs(N2[1]-b), np.abs(N2[0]-a)]), 2)"
   ]
  },
  {
   "cell_type": "code",
   "execution_count": 5,
   "id": "1f5c8e61",
   "metadata": {},
   "outputs": [],
   "source": [
    "# Apply the extraction functions to the DataFrame\n",
    "nf['LIF'] = nf.apply(lambda row: lif(row[-1]), axis=1)\n",
    "nf['A'] = nf.apply(lambda row: ave(row[-1]), axis=1)\n",
    "nf['C'] = nf.apply(lambda row: com(row[-1]), axis=1)\n",
    "nf['B'] = nf.apply(lambda row: bef(row[-1]), axis=1)\n",
    "nf['MTD'] = nf.apply(lambda row: mtd(row[-1]), axis=1)\n",
    "\n",
    "# Calculate maximum deviations for each experiment\n",
    "nf['Mar15'] = nf.apply(lambda row: mar(row[90], row[75], row[60], row[45], row[30], row[15]), axis=1)\n",
    "nf['Sep15'] = nf.apply(lambda row: sep(row[90], row[75], row[60], row[45], row[30], row[15]), axis=1)\n",
    "nf['Nov15'] = nf.apply(lambda row: nov(row[90], row[75], row[60], row[45], row[30], row[15]), axis=1)\n"
   ]
  },
  {
   "cell_type": "code",
   "execution_count": 6,
   "id": "e8750ea9",
   "metadata": {},
   "outputs": [],
   "source": [
    "# Filter the DataFrame for each experiment based on the maximum deviation\n",
    "MAR = nf.sort_values('Mar15')\n",
    "MAR = MAR[MAR['Mar15'] < 0.05].reset_index(drop=True)  # Filter and reset index\n",
    "\n",
    "SEP = nf.sort_values('Sep15')\n",
    "SEP = SEP[SEP['Sep15'] < 0.05].reset_index(drop=True)  # Filter and reset index\n",
    "\n",
    "NOV = nf.sort_values('Nov15')\n",
    "NOV = NOV[NOV['Nov15'] < 0.05].reset_index(drop=True)  # Filter and reset index"
   ]
  }
 ],
 "metadata": {
  "kernelspec": {
   "display_name": "Python 3 (ipykernel)",
   "language": "python",
   "name": "python3"
  },
  "language_info": {
   "codemirror_mode": {
    "name": "ipython",
    "version": 3
   },
   "file_extension": ".py",
   "mimetype": "text/x-python",
   "name": "python",
   "nbconvert_exporter": "python",
   "pygments_lexer": "ipython3",
   "version": "3.9.19"
  }
 },
 "nbformat": 4,
 "nbformat_minor": 5
}
