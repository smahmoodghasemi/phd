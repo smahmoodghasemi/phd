{
 "cells": [
  {
   "cell_type": "code",
   "execution_count": 1,
   "id": "6548490b",
   "metadata": {},
   "outputs": [],
   "source": [
    "import numpy as np\n",
    "import pandas as pd\n",
    "import time\n",
    "from time import time\n",
    "import pickle\n",
    "import warnings\n",
    "warnings.filterwarnings(\"ignore\")\n",
    "from matplotlib import pyplot as plt\n"
   ]
  },
  {
   "cell_type": "code",
   "execution_count": 2,
   "id": "aae8af3f",
   "metadata": {},
   "outputs": [],
   "source": [
    "# Load data from a CSV file\n",
    "fv = pd.read_csv(r'C:\\Users\\smahm\\FV.csv')\n",
    "\n",
    "# Rename the columns for clarity\n",
    "# The first column is renamed to -1, and the remaining columns are assigned values ranging from 0 to 135, with steps of 15.\n",
    "fv.columns = np.append(np.array([-1]), np.arange(0, 135, 15))\n",
    "\n",
    "# Reset the index of the DataFrame and drop the old index column\n",
    "fv = fv.reset_index(drop=True)"
   ]
  },
  {
   "cell_type": "code",
   "execution_count": 3,
   "id": "987919b5",
   "metadata": {},
   "outputs": [],
   "source": [
    "# Activation probabilities for different experiments (Flavopiridol)\n",
    "D2=[0.05,0.09,0.22,0.43,0.56,0.63]  # December Experiment\n",
    "J2=[0.04,0.05,0.15,0.37,0.52,0.53] # January Experiment \n",
    "A2=[0.03, 0.06, 0.14, 0.22, 0.30, 0.36] # August Experiment"
   ]
  },
  {
   "cell_type": "code",
   "execution_count": 4,
   "id": "738b0b94",
   "metadata": {},
   "outputs": [],
   "source": [
    "def lif(parameters):\n",
    "    # Extracts and converts the LIF value from the input string.\n",
    "    LIF = float(parameters.split(\"LIF\")[1].split(\"MTD\")[0])\n",
    "    return LIF\n",
    "\n",
    "def ave(parameters):\n",
    "    # Extracts and converts the A value from the input string.\n",
    "    A = float(parameters.split(\"A\")[1].split(\"LIF\")[0])\n",
    "    return A\n",
    "\n",
    "def mtd(parameters):\n",
    "    # Extracts and converts the MTD value from the input string.\n",
    "    MTD = float(parameters.split(\"LIF\")[1])\n",
    "    return MTD\n",
    "\n",
    "    # Note: The following line will never be executed due to the return statement above.\n",
    "    # return np.array([LIF, A, C, B, MTD])\n",
    "\n",
    "def dec(f, e, d, c):\n",
    "    # Computes the maximum absolute difference between the input values and \n",
    "    # the corresponding values in D2, rounded to two decimal places.\n",
    "    dec45 = np.round(np.max([np.abs(D2[5] - f), np.abs(D2[4] - e),\n",
    "                              np.abs(D2[3] - d), np.abs(D2[2] - c)]), 2)\n",
    "    return dec45\n",
    "\n",
    "def jan(f, e, d, c):\n",
    "    # Computes the maximum absolute difference between the input values and \n",
    "    # the corresponding values in J2, rounded to two decimal places.\n",
    "    jan45 = np.round(np.max([np.abs(J2[5] - f), np.abs(J2[4] - e),\n",
    "                              np.abs(J2[3] - d), np.abs(J2[2] - c)]), 2)\n",
    "    return jan45\n",
    "\n",
    "def aug(f, e, d, c):\n",
    "    # Computes the maximum absolute difference between the input values and \n",
    "    # the corresponding values in A2, rounded to two decimal places.\n",
    "    aug45 = np.round(np.max([np.abs(A2[5] - f), np.abs(A2[4] - e),\n",
    "                              np.abs(A2[3] - d), np.abs(A2[2] - c)]), 2)\n",
    "    return aug45\n"
   ]
  },
  {
   "cell_type": "code",
   "execution_count": 5,
   "id": "a125ad3a",
   "metadata": {},
   "outputs": [],
   "source": [
    "# Apply the lif function to the last column of each row and store the result in the 'LIF' column.\n",
    "fv['LIF'] = fv.apply(lambda row: lif(row[-1]), axis=1)\n",
    "\n",
    "# Apply the ave function to the last column of each row and store the result in the 'A' column.\n",
    "fv['A'] = fv.apply(lambda row: ave(row[-1]), axis=1)\n",
    "\n",
    "# Apply the mtd function to the last column of each row and store the result in the 'MTD' column.\n",
    "fv['MTD'] = fv.apply(lambda row: mtd(row[-1]), axis=1)\n",
    "\n",
    "# Calculate the Dec45 value by applying the dec function to specified columns of each row,\n",
    "# storing the result in the 'Dec45' column.\n",
    "fv['Dec45'] = fv.apply(lambda row: dec(row[90], row[75], row[60], row[45]), axis=1)\n",
    "\n",
    "# Calculate the Jan45 value by applying the jan function to specified columns of each row,\n",
    "# storing the result in the 'Jan45' column.\n",
    "fv['Jan45'] = fv.apply(lambda row: jan(row[90], row[75], row[60], row[45]), axis=1)\n",
    "\n",
    "# Calculate the Aug45 value by applying the aug function to specified columns of each row,\n",
    "# storing the result in the 'Aug45' column.\n",
    "fv['Aug45'] = fv.apply(lambda row: aug(row[90], row[75], row[60], row[45]), axis=1)\n"
   ]
  },
  {
   "cell_type": "code",
   "execution_count": 6,
   "id": "c6d55cd6",
   "metadata": {},
   "outputs": [],
   "source": [
    "# Sort the DataFrame by 'Dec45' and filter for values less than 0.04, then reset the index.\n",
    "DEC = fv.sort_values('Dec45')  # Sort by 'Dec45'\n",
    "DEC = DEC[DEC['Dec45'] < 0.04]  # Filter rows where 'Dec45' is less than 0.04\n",
    "DEC = DEC.reset_index(drop=True)  # Reset the index without adding the old index as a column\n",
    "\n",
    "# Sort the DataFrame by 'Jan45' and filter for values less than 0.04, then reset the index.\n",
    "JAN = fv.sort_values('Jan45')  # Sort by 'Jan45'\n",
    "JAN = JAN[JAN['Jan45'] < 0.04]  # Filter rows where 'Jan45' is less than 0.04\n",
    "JAN = JAN.reset_index(drop=True)  # Reset the index without adding the old index as a column\n",
    "\n",
    "# Sort the DataFrame by 'Aug45' and filter for values less than 0.04, then reset the index.\n",
    "AUG = fv.sort_values('Aug45')  # Sort by 'Aug45'\n",
    "AUG = AUG[AUG['Aug45'] < 0.04]  # Filter rows where 'Aug45' is less than 0.04\n",
    "AUG = AUG.reset_index(drop=True)  # Reset the index without adding the old index as a column\n"
   ]
  }
 ],
 "metadata": {
  "kernelspec": {
   "display_name": "Python 3 (ipykernel)",
   "language": "python",
   "name": "python3"
  },
  "language_info": {
   "codemirror_mode": {
    "name": "ipython",
    "version": 3
   },
   "file_extension": ".py",
   "mimetype": "text/x-python",
   "name": "python",
   "nbconvert_exporter": "python",
   "pygments_lexer": "ipython3",
   "version": "3.9.19"
  }
 },
 "nbformat": 4,
 "nbformat_minor": 5
}
